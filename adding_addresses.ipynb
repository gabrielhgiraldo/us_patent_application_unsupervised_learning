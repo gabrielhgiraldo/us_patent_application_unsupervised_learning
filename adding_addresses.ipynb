{
 "cells": [
  {
   "cell_type": "code",
   "execution_count": 1,
   "metadata": {},
   "outputs": [],
   "source": [
    "import pandas as pd"
   ]
  },
  {
   "cell_type": "code",
   "execution_count": 2,
   "metadata": {},
   "outputs": [],
   "source": [
    "assignments = pd.read_csv('data/us_pto_2017/assignment_sample.csv')"
   ]
  },
  {
   "cell_type": "code",
   "execution_count": 3,
   "metadata": {},
   "outputs": [
    {
     "name": "stdout",
     "output_type": "stream",
     "text": [
      "<class 'pandas.core.frame.DataFrame'>\n",
      "RangeIndex: 1000 entries, 0 to 999\n",
      "Data columns (total 14 columns):\n",
      "rf_id             1000 non-null int64\n",
      "file_id           1000 non-null int64\n",
      "cname             1000 non-null object\n",
      "caddress_1        1000 non-null object\n",
      "caddress_2        1000 non-null object\n",
      "caddress_3        700 non-null object\n",
      "caddress_4        150 non-null object\n",
      "reel_no           1000 non-null int64\n",
      "frame_no          1000 non-null int64\n",
      "convey_text       1000 non-null object\n",
      "record_dt         1000 non-null object\n",
      "last_update_dt    1000 non-null object\n",
      "page_count        1000 non-null int64\n",
      "purge_in          1000 non-null object\n",
      "dtypes: int64(5), object(9)\n",
      "memory usage: 109.5+ KB\n"
     ]
    }
   ],
   "source": [
    "assignments.info()"
   ]
  },
  {
   "cell_type": "code",
   "execution_count": 9,
   "metadata": {},
   "outputs": [
    {
     "name": "stderr",
     "output_type": "stream",
     "text": [
      "/anaconda3/lib/python3.6/site-packages/IPython/core/interactiveshell.py:2785: DtypeWarning: Columns (4) have mixed types. Specify dtype option on import or set low_memory=False.\n",
      "  interactivity=interactivity, compiler=compiler, result=result)\n"
     ]
    }
   ],
   "source": [
    "patents = pd.read_csv('data/patents_with_topics.csv')"
   ]
  },
  {
   "cell_type": "code",
   "execution_count": 10,
   "metadata": {},
   "outputs": [
    {
     "name": "stdout",
     "output_type": "stream",
     "text": [
      "<class 'pandas.core.frame.DataFrame'>\n",
      "RangeIndex: 97487 entries, 0 to 97486\n",
      "Data columns (total 16 columns):\n",
      "Unnamed: 0       97487 non-null int64\n",
      "rf_id            97487 non-null int64\n",
      "title            97487 non-null object\n",
      "lang             97487 non-null object\n",
      "appno_doc_num    97487 non-null object\n",
      "appno_date       97451 non-null object\n",
      "appno_country    97487 non-null object\n",
      "pgpub_doc_num    56117 non-null float64\n",
      "pgpub_date       56117 non-null object\n",
      "pgpub_country    56117 non-null object\n",
      "grant_doc_num    79806 non-null object\n",
      "grant_date       79766 non-null object\n",
      "grant_country    79806 non-null object\n",
      "appno_year       97451 non-null float64\n",
      "topic            97487 non-null int64\n",
      "topic_words      97487 non-null object\n",
      "dtypes: float64(2), int64(3), object(11)\n",
      "memory usage: 11.9+ MB\n"
     ]
    }
   ],
   "source": [
    "patents.info()"
   ]
  },
  {
   "cell_type": "code",
   "execution_count": 11,
   "metadata": {},
   "outputs": [],
   "source": [
    "patents = patents.merge(assignments, on='rf_id')"
   ]
  },
  {
   "cell_type": "code",
   "execution_count": 12,
   "metadata": {},
   "outputs": [
    {
     "name": "stdout",
     "output_type": "stream",
     "text": [
      "<class 'pandas.core.frame.DataFrame'>\n",
      "Int64Index: 10 entries, 0 to 9\n",
      "Data columns (total 29 columns):\n",
      "Unnamed: 0        10 non-null int64\n",
      "rf_id             10 non-null int64\n",
      "title             10 non-null object\n",
      "lang              10 non-null object\n",
      "appno_doc_num     10 non-null object\n",
      "appno_date        10 non-null object\n",
      "appno_country     10 non-null object\n",
      "pgpub_doc_num     9 non-null float64\n",
      "pgpub_date        9 non-null object\n",
      "pgpub_country     9 non-null object\n",
      "grant_doc_num     7 non-null object\n",
      "grant_date        7 non-null object\n",
      "grant_country     7 non-null object\n",
      "appno_year        10 non-null float64\n",
      "topic             10 non-null int64\n",
      "topic_words       10 non-null object\n",
      "file_id           10 non-null int64\n",
      "cname             10 non-null object\n",
      "caddress_1        10 non-null object\n",
      "caddress_2        10 non-null object\n",
      "caddress_3        4 non-null object\n",
      "caddress_4        0 non-null object\n",
      "reel_no           10 non-null int64\n",
      "frame_no          10 non-null int64\n",
      "convey_text       10 non-null object\n",
      "record_dt         10 non-null object\n",
      "last_update_dt    10 non-null object\n",
      "page_count        10 non-null int64\n",
      "purge_in          10 non-null object\n",
      "dtypes: float64(2), int64(7), object(20)\n",
      "memory usage: 2.3+ KB\n"
     ]
    }
   ],
   "source": [
    "patents.info()"
   ]
  },
  {
   "cell_type": "code",
   "execution_count": 15,
   "metadata": {},
   "outputs": [],
   "source": [
    "patents.to_csv('patents_with_topics.csv')"
   ]
  },
  {
   "cell_type": "code",
   "execution_count": null,
   "metadata": {},
   "outputs": [],
   "source": []
  }
 ],
 "metadata": {
  "kernelspec": {
   "display_name": "Python 3",
   "language": "python",
   "name": "python3"
  },
  "language_info": {
   "codemirror_mode": {
    "name": "ipython",
    "version": 3
   },
   "file_extension": ".py",
   "mimetype": "text/x-python",
   "name": "python",
   "nbconvert_exporter": "python",
   "pygments_lexer": "ipython3",
   "version": "3.6.6"
  }
 },
 "nbformat": 4,
 "nbformat_minor": 2
}
